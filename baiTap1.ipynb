{
 "cells": [
  {
   "cell_type": "code",
   "execution_count": 8,
   "id": "c5750551-9e88-429a-abd9-ae5b389a90e8",
   "metadata": {},
   "outputs": [],
   "source": [
    "seat_number = 99\n",
    "def costemer():\n",
    "    global seat_number\n",
    "    \n",
    "    tittle = input (\"Hãy nhập danh xưng của bạn(Mr. or Mrs.): \")\n",
    "    fist_name = input(\"Hãy nhập họ của bạn: \")\n",
    "    middle_name = input (\"Hãy nhập tên đệm của bạn: \")\n",
    "    last_name = input (\"Hãy nhập tên của bạn: \")\n",
    "    birth_day = int(input (\"Hãy nhập năm sinh của bạn: \"))\n",
    "    curren_day = 2024\n",
    "    age =  curren_day - birth_day\n",
    "    \n",
    "    print(\"Xin chào\", tittle, last_name)\n",
    "    print(\"Tên in trên vé của bạn là:\", fist_name, middle_name, last_name)\n",
    "\n",
    "    seat_number +=1\n",
    "    print(\"Số ghế của bạn là\", seat_number)\n",
    "    print(\"Bạn năm nay\", age, \"tuổi\")"
   ]
  },
  {
   "cell_type": "code",
   "execution_count": null,
   "id": "a92d40aa-c675-482c-86ac-d3cd383e9c07",
   "metadata": {},
   "outputs": [],
   "source": [
    "costemer()"
   ]
  },
  {
   "cell_type": "code",
   "execution_count": null,
   "id": "27b06984-2b6f-46c0-a74f-828abd1766e7",
   "metadata": {},
   "outputs": [],
   "source": []
  }
 ],
 "metadata": {
  "kernelspec": {
   "display_name": "Python 3 (ipykernel)",
   "language": "python",
   "name": "python3"
  },
  "language_info": {
   "codemirror_mode": {
    "name": "ipython",
    "version": 3
   },
   "file_extension": ".py",
   "mimetype": "text/x-python",
   "name": "python",
   "nbconvert_exporter": "python",
   "pygments_lexer": "ipython3",
   "version": "3.11.7"
  }
 },
 "nbformat": 4,
 "nbformat_minor": 5
}
